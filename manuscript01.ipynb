{
 "cells": [
  {
   "cell_type": "code",
   "execution_count": 30,
   "metadata": {},
   "outputs": [
    {
     "name": "stdout",
     "output_type": "stream",
     "text": [
      "Matrix([[1/2, 0, 1/2], [0, 1, 0], [1/2, 0, 1/2]])\n",
      "Matrix([[0], [9], [4]])\n"
     ]
    }
   ],
   "source": [
    "# 测试一下\n",
    "import numpy as np\n",
    "import sympy as sp\n",
    "\n",
    "def op(A, x, b):\n",
    "    \"\"\"\n",
    "    Compute x = A^T * H(A*x - b)\n",
    "    \n",
    "    Parameters:\n",
    "    -----------\n",
    "    A : numpy.ndarray\n",
    "        3x3 matrix\n",
    "    x : numpy.ndarray\n",
    "        Input vector\n",
    "    b : numpy.ndarray\n",
    "        Vector of the same dimension as A*x\n",
    "    \n",
    "    Returns:\n",
    "    --------\n",
    "    numpy.ndarray\n",
    "        Result of A^T * H(A*x - b)\n",
    "    \"\"\"\n",
    "\n",
    "    try_to_add = A * x\n",
    "    overflow = try_to_add - b\n",
    "\n",
    "    overflow = (try_to_add - b).applyfunc(lambda x: sp.Max(x, 0))\n",
    "    \n",
    "    # Compute A^T * H(A*x - c)\n",
    "    compensate = A.T * overflow\n",
    "    \n",
    "    return try_to_add - compensate\n",
    "\n",
    "x = sp.Matrix([[4, 9, 0]]).T\n",
    "b = sp.Matrix([[4, 9, 9]]).T\n",
    "A = sp.Matrix([[0, 0, 0], [0, 1, 0], [1, 0, 1]])\n",
    "print(A.pinv() * A)\n",
    "x_new = op(A, x, b)\n",
    "print(x_new)\n"
   ]
  },
  {
   "cell_type": "code",
   "execution_count": 16,
   "metadata": {},
   "outputs": [
    {
     "name": "stdout",
     "output_type": "stream",
     "text": [
      "[ 0. -4.  9.]\n"
     ]
    }
   ],
   "source": [
    "A_new = np.array([[1, 0, 0], [0, 0, 0], [0, 1, 1]])\n",
    "x_new_new = op(A_new, x_new, b)\n",
    "print(x_new_new)"
   ]
  },
  {
   "cell_type": "code",
   "execution_count": 38,
   "metadata": {},
   "outputs": [
    {
     "name": "stdout",
     "output_type": "stream",
     "text": [
      "Matrix([[-1, 0, 0], [0, 0, 0], [1, 0, 0]])\n"
     ]
    }
   ],
   "source": [
    "A = sp.zeros(3, 3)\n",
    "A[0, 0] = -1\n",
    "A[2, 0] = 1\n",
    "print(A)"
   ]
  },
  {
   "cell_type": "code",
   "execution_count": 46,
   "metadata": {},
   "outputs": [
    {
     "name": "stdout",
     "output_type": "stream",
     "text": [
      "Matrix([[0, 0, 0], [0, 1, 0], [1, 0, 1]])\n"
     ]
    }
   ],
   "source": [
    "def delta_op(i, j, size = 3):\n",
    "    \"\"\"\n",
    "    计算增量\n",
    "    [\n",
    "        -1, 0, 0,\n",
    "        0, 0, 0,\n",
    "        1, 0, 0\n",
    "    ]\n",
    "    相当于:\n",
    "      d a_i = - a_i\n",
    "      d a_j = a_i\n",
    "    \"\"\"\n",
    "    \n",
    "    delta = sp.zeros(size, size)\n",
    "    delta[i, i] = -1\n",
    "    delta[j, i] = 1\n",
    "    \n",
    "    return delta\n",
    "\n",
    "print(sp.eye(3, 3) + delta_op(0, 2))"
   ]
  },
  {
   "cell_type": "code",
   "execution_count": 48,
   "metadata": {},
   "outputs": [
    {
     "name": "stdout",
     "output_type": "stream",
     "text": [
      "Matrix([[0], [9], [4]])\n",
      "Matrix([[0], [4], [9]])\n"
     ]
    }
   ],
   "source": [
    "def add_op(i, j, x, b, size = 3):\n",
    "    try_op = sp.eye(size, size) + delta_op(i, j, size)\n",
    "    try_add = try_op * x\n",
    "\n",
    "    overflow = try_add - b\n",
    "    overflow_guard = overflow.applyfunc(lambda x: sp.Max(x, 0))\n",
    "\n",
    "    compensate = delta_op(j, i, size) * overflow_guard\n",
    "\n",
    "    return try_add + compensate\n",
    "\n",
    "x = sp.Matrix([[4, 9, 0]]).T\n",
    "b = sp.Matrix([[4, 9, 9]]).T\n",
    "x_new = add_op(0, 2, x, b)\n",
    "print(x_new)\n",
    "x_new_new = add_op(1, 2, x_new, b)\n",
    "print(x_new_new)"
   ]
  }
 ],
 "metadata": {
  "kernelspec": {
   "display_name": "think-CJ19LPnX-py3.13",
   "language": "python",
   "name": "python3"
  },
  "language_info": {
   "codemirror_mode": {
    "name": "ipython",
    "version": 3
   },
   "file_extension": ".py",
   "mimetype": "text/x-python",
   "name": "python",
   "nbconvert_exporter": "python",
   "pygments_lexer": "ipython3",
   "version": "3.13.0"
  }
 },
 "nbformat": 4,
 "nbformat_minor": 2
}
